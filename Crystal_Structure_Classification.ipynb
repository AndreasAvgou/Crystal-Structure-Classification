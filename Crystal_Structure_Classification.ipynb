{
  "cells": [
    {
      "cell_type": "markdown",
      "metadata": {
        "id": "XozdDc7LITew"
      },
      "source": [
        "# Loading Libraries\n"
      ]
    },
    {
      "cell_type": "code",
      "execution_count": 1,
      "metadata": {
        "id": "ubn_Wdf4HyzZ"
      },
      "outputs": [],
      "source": [
        "import pandas as pd\n",
        "import numpy as np\n",
        "import matplotlib.pyplot as plt\n",
        "from sklearn.decomposition import PCA\n",
        "from sklearn.model_selection import train_test_split\n",
        "from sklearn.preprocessing import LabelEncoder, StandardScaler\n",
        "from sklearn.tree import DecisionTreeClassifier\n",
        "import warnings\n",
        "warnings.filterwarnings('ignore')"
      ]
    },
    {
      "cell_type": "code",
      "source": [
        "from google.colab import drive\n",
        "drive.mount('/content/drive')"
      ],
      "metadata": {
        "colab": {
          "base_uri": "https://localhost:8080/"
        },
        "id": "knQrupwq_qb6",
        "outputId": "5560139f-77be-4232-a190-f33f7085cd5a"
      },
      "execution_count": 2,
      "outputs": [
        {
          "output_type": "stream",
          "name": "stdout",
          "text": [
            "Drive already mounted at /content/drive; to attempt to forcibly remount, call drive.mount(\"/content/drive\", force_remount=True).\n"
          ]
        }
      ]
    },
    {
      "cell_type": "markdown",
      "metadata": {
        "id": "VIAGI5xtI1B3"
      },
      "source": [
        "# Loading Dataset\n"
      ]
    },
    {
      "cell_type": "code",
      "execution_count": 3,
      "metadata": {
        "id": "oUMd-8bBIQoG"
      },
      "outputs": [],
      "source": [
        "df = pd.read_csv(r\"/content/drive/MyDrive/Crystal Structure Classification/train_dataset.csv\")"
      ]
    },
    {
      "cell_type": "markdown",
      "source": [
        ""
      ],
      "metadata": {
        "id": "ZU8tbjPm6y4C"
      }
    },
    {
      "cell_type": "markdown",
      "metadata": {
        "id": "DyEKd-EEJ47p"
      },
      "source": [
        "# **Basic EDA**"
      ]
    },
    {
      "cell_type": "code",
      "execution_count": 4,
      "metadata": {
        "colab": {
          "base_uri": "https://localhost:8080/",
          "height": 288
        },
        "id": "CA5SIP8JJ2Vp",
        "outputId": "a74c3c86-28b9-4f85-c7fa-a6890d3feb93"
      },
      "outputs": [
        {
          "output_type": "execute_result",
          "data": {
            "text/plain": [
              "   v(A)  v(B)  r(AXII)(Å)  r(AVI)(Å)  r(BVI)(Å)  EN(A)  EN(B)  l(A-O)(Å)  \\\n",
              "0     0     0        0.52       0.52       0.93   2.18   2.54   2.214685   \n",
              "1     0     0        1.03       0.86       0.60   1.27   1.90   2.500930   \n",
              "2     2     4        0.92       0.67       0.53   1.83   1.88   2.290644   \n",
              "3     1     5        1.64       1.38       0.62   0.82   2.36   3.025719   \n",
              "4     0     0        0.57       0.57       0.71   2.20   1.30   2.300109   \n",
              "\n",
              "   l(B-O)(Å)      ΔENR        tG         τ         μ Lowest distortion  \n",
              "0   2.313698 -1.728214  0.582680  0.000000  0.664286             cubic  \n",
              "1   0.000000 -1.768643  0.859135  0.000000  0.428571             cubic  \n",
              "2   1.930311 -1.468464  0.849994  4.936558  0.378571             cubic  \n",
              "3   1.745600 -1.974429  1.064161  3.977376  0.442857      orthorhombic  \n",
              "4   2.027412 -1.622357  0.660190  0.000000  0.507143             cubic  "
            ],
            "text/html": [
              "\n",
              "  <div id=\"df-7647d7f9-1c17-4bfc-b41b-af90f2cbb4ea\">\n",
              "    <div class=\"colab-df-container\">\n",
              "      <div>\n",
              "<style scoped>\n",
              "    .dataframe tbody tr th:only-of-type {\n",
              "        vertical-align: middle;\n",
              "    }\n",
              "\n",
              "    .dataframe tbody tr th {\n",
              "        vertical-align: top;\n",
              "    }\n",
              "\n",
              "    .dataframe thead th {\n",
              "        text-align: right;\n",
              "    }\n",
              "</style>\n",
              "<table border=\"1\" class=\"dataframe\">\n",
              "  <thead>\n",
              "    <tr style=\"text-align: right;\">\n",
              "      <th></th>\n",
              "      <th>v(A)</th>\n",
              "      <th>v(B)</th>\n",
              "      <th>r(AXII)(Å)</th>\n",
              "      <th>r(AVI)(Å)</th>\n",
              "      <th>r(BVI)(Å)</th>\n",
              "      <th>EN(A)</th>\n",
              "      <th>EN(B)</th>\n",
              "      <th>l(A-O)(Å)</th>\n",
              "      <th>l(B-O)(Å)</th>\n",
              "      <th>ΔENR</th>\n",
              "      <th>tG</th>\n",
              "      <th>τ</th>\n",
              "      <th>μ</th>\n",
              "      <th>Lowest distortion</th>\n",
              "    </tr>\n",
              "  </thead>\n",
              "  <tbody>\n",
              "    <tr>\n",
              "      <th>0</th>\n",
              "      <td>0</td>\n",
              "      <td>0</td>\n",
              "      <td>0.52</td>\n",
              "      <td>0.52</td>\n",
              "      <td>0.93</td>\n",
              "      <td>2.18</td>\n",
              "      <td>2.54</td>\n",
              "      <td>2.214685</td>\n",
              "      <td>2.313698</td>\n",
              "      <td>-1.728214</td>\n",
              "      <td>0.582680</td>\n",
              "      <td>0.000000</td>\n",
              "      <td>0.664286</td>\n",
              "      <td>cubic</td>\n",
              "    </tr>\n",
              "    <tr>\n",
              "      <th>1</th>\n",
              "      <td>0</td>\n",
              "      <td>0</td>\n",
              "      <td>1.03</td>\n",
              "      <td>0.86</td>\n",
              "      <td>0.60</td>\n",
              "      <td>1.27</td>\n",
              "      <td>1.90</td>\n",
              "      <td>2.500930</td>\n",
              "      <td>0.000000</td>\n",
              "      <td>-1.768643</td>\n",
              "      <td>0.859135</td>\n",
              "      <td>0.000000</td>\n",
              "      <td>0.428571</td>\n",
              "      <td>cubic</td>\n",
              "    </tr>\n",
              "    <tr>\n",
              "      <th>2</th>\n",
              "      <td>2</td>\n",
              "      <td>4</td>\n",
              "      <td>0.92</td>\n",
              "      <td>0.67</td>\n",
              "      <td>0.53</td>\n",
              "      <td>1.83</td>\n",
              "      <td>1.88</td>\n",
              "      <td>2.290644</td>\n",
              "      <td>1.930311</td>\n",
              "      <td>-1.468464</td>\n",
              "      <td>0.849994</td>\n",
              "      <td>4.936558</td>\n",
              "      <td>0.378571</td>\n",
              "      <td>cubic</td>\n",
              "    </tr>\n",
              "    <tr>\n",
              "      <th>3</th>\n",
              "      <td>1</td>\n",
              "      <td>5</td>\n",
              "      <td>1.64</td>\n",
              "      <td>1.38</td>\n",
              "      <td>0.62</td>\n",
              "      <td>0.82</td>\n",
              "      <td>2.36</td>\n",
              "      <td>3.025719</td>\n",
              "      <td>1.745600</td>\n",
              "      <td>-1.974429</td>\n",
              "      <td>1.064161</td>\n",
              "      <td>3.977376</td>\n",
              "      <td>0.442857</td>\n",
              "      <td>orthorhombic</td>\n",
              "    </tr>\n",
              "    <tr>\n",
              "      <th>4</th>\n",
              "      <td>0</td>\n",
              "      <td>0</td>\n",
              "      <td>0.57</td>\n",
              "      <td>0.57</td>\n",
              "      <td>0.71</td>\n",
              "      <td>2.20</td>\n",
              "      <td>1.30</td>\n",
              "      <td>2.300109</td>\n",
              "      <td>2.027412</td>\n",
              "      <td>-1.622357</td>\n",
              "      <td>0.660190</td>\n",
              "      <td>0.000000</td>\n",
              "      <td>0.507143</td>\n",
              "      <td>cubic</td>\n",
              "    </tr>\n",
              "  </tbody>\n",
              "</table>\n",
              "</div>\n",
              "      <button class=\"colab-df-convert\" onclick=\"convertToInteractive('df-7647d7f9-1c17-4bfc-b41b-af90f2cbb4ea')\"\n",
              "              title=\"Convert this dataframe to an interactive table.\"\n",
              "              style=\"display:none;\">\n",
              "        \n",
              "  <svg xmlns=\"http://www.w3.org/2000/svg\" height=\"24px\"viewBox=\"0 0 24 24\"\n",
              "       width=\"24px\">\n",
              "    <path d=\"M0 0h24v24H0V0z\" fill=\"none\"/>\n",
              "    <path d=\"M18.56 5.44l.94 2.06.94-2.06 2.06-.94-2.06-.94-.94-2.06-.94 2.06-2.06.94zm-11 1L8.5 8.5l.94-2.06 2.06-.94-2.06-.94L8.5 2.5l-.94 2.06-2.06.94zm10 10l.94 2.06.94-2.06 2.06-.94-2.06-.94-.94-2.06-.94 2.06-2.06.94z\"/><path d=\"M17.41 7.96l-1.37-1.37c-.4-.4-.92-.59-1.43-.59-.52 0-1.04.2-1.43.59L10.3 9.45l-7.72 7.72c-.78.78-.78 2.05 0 2.83L4 21.41c.39.39.9.59 1.41.59.51 0 1.02-.2 1.41-.59l7.78-7.78 2.81-2.81c.8-.78.8-2.07 0-2.86zM5.41 20L4 18.59l7.72-7.72 1.47 1.35L5.41 20z\"/>\n",
              "  </svg>\n",
              "      </button>\n",
              "      \n",
              "  <style>\n",
              "    .colab-df-container {\n",
              "      display:flex;\n",
              "      flex-wrap:wrap;\n",
              "      gap: 12px;\n",
              "    }\n",
              "\n",
              "    .colab-df-convert {\n",
              "      background-color: #E8F0FE;\n",
              "      border: none;\n",
              "      border-radius: 50%;\n",
              "      cursor: pointer;\n",
              "      display: none;\n",
              "      fill: #1967D2;\n",
              "      height: 32px;\n",
              "      padding: 0 0 0 0;\n",
              "      width: 32px;\n",
              "    }\n",
              "\n",
              "    .colab-df-convert:hover {\n",
              "      background-color: #E2EBFA;\n",
              "      box-shadow: 0px 1px 2px rgba(60, 64, 67, 0.3), 0px 1px 3px 1px rgba(60, 64, 67, 0.15);\n",
              "      fill: #174EA6;\n",
              "    }\n",
              "\n",
              "    [theme=dark] .colab-df-convert {\n",
              "      background-color: #3B4455;\n",
              "      fill: #D2E3FC;\n",
              "    }\n",
              "\n",
              "    [theme=dark] .colab-df-convert:hover {\n",
              "      background-color: #434B5C;\n",
              "      box-shadow: 0px 1px 3px 1px rgba(0, 0, 0, 0.15);\n",
              "      filter: drop-shadow(0px 1px 2px rgba(0, 0, 0, 0.3));\n",
              "      fill: #FFFFFF;\n",
              "    }\n",
              "  </style>\n",
              "\n",
              "      <script>\n",
              "        const buttonEl =\n",
              "          document.querySelector('#df-7647d7f9-1c17-4bfc-b41b-af90f2cbb4ea button.colab-df-convert');\n",
              "        buttonEl.style.display =\n",
              "          google.colab.kernel.accessAllowed ? 'block' : 'none';\n",
              "\n",
              "        async function convertToInteractive(key) {\n",
              "          const element = document.querySelector('#df-7647d7f9-1c17-4bfc-b41b-af90f2cbb4ea');\n",
              "          const dataTable =\n",
              "            await google.colab.kernel.invokeFunction('convertToInteractive',\n",
              "                                                     [key], {});\n",
              "          if (!dataTable) return;\n",
              "\n",
              "          const docLinkHtml = 'Like what you see? Visit the ' +\n",
              "            '<a target=\"_blank\" href=https://colab.research.google.com/notebooks/data_table.ipynb>data table notebook</a>'\n",
              "            + ' to learn more about interactive tables.';\n",
              "          element.innerHTML = '';\n",
              "          dataTable['output_type'] = 'display_data';\n",
              "          await google.colab.output.renderOutput(dataTable, element);\n",
              "          const docLink = document.createElement('div');\n",
              "          docLink.innerHTML = docLinkHtml;\n",
              "          element.appendChild(docLink);\n",
              "        }\n",
              "      </script>\n",
              "    </div>\n",
              "  </div>\n",
              "  "
            ]
          },
          "metadata": {},
          "execution_count": 4
        }
      ],
      "source": [
        "df.head()"
      ]
    },
    {
      "cell_type": "code",
      "source": [
        "df.columns"
      ],
      "metadata": {
        "colab": {
          "base_uri": "https://localhost:8080/"
        },
        "id": "UQ95fpTZhU1m",
        "outputId": "b25b0c81-0598-4eb0-87db-887c43c3cbdd"
      },
      "execution_count": 5,
      "outputs": [
        {
          "output_type": "execute_result",
          "data": {
            "text/plain": [
              "Index(['v(A)', 'v(B)', 'r(AXII)(Å)', 'r(AVI)(Å)', 'r(BVI)(Å)', 'EN(A)',\n",
              "       'EN(B)', 'l(A-O)(Å)', 'l(B-O)(Å)', 'ΔENR', 'tG', 'τ', 'μ',\n",
              "       'Lowest distortion'],\n",
              "      dtype='object')"
            ]
          },
          "metadata": {},
          "execution_count": 5
        }
      ]
    },
    {
      "cell_type": "code",
      "execution_count": 6,
      "metadata": {
        "colab": {
          "base_uri": "https://localhost:8080/"
        },
        "id": "_qNCfd73Jp7E",
        "outputId": "00a89b68-c8e0-41a2-8949-3634df530fde"
      },
      "outputs": [
        {
          "output_type": "execute_result",
          "data": {
            "text/plain": [
              "(4165, 14)"
            ]
          },
          "metadata": {},
          "execution_count": 6
        }
      ],
      "source": [
        "df.shape"
      ]
    },
    {
      "cell_type": "code",
      "execution_count": 7,
      "metadata": {
        "colab": {
          "base_uri": "https://localhost:8080/",
          "height": 382
        },
        "id": "lMeTIbG3JmP6",
        "outputId": "9623726e-e95e-4ec7-f4be-2f16349c5535"
      },
      "outputs": [
        {
          "output_type": "execute_result",
          "data": {
            "text/plain": [
              "              v(A)         v(B)  r(AXII)(Å)    r(AVI)(Å)    r(BVI)(Å)  \\\n",
              "count  4165.000000  4165.000000  4165.00000  4165.000000  4165.000000   \n",
              "mean      0.882353     1.385114     1.00557     0.841789     0.801999   \n",
              "std       1.672111     2.161707     0.33694     0.240549     0.234891   \n",
              "min      -1.000000    -1.000000     0.27000     0.270000     0.270000   \n",
              "25%      -1.000000    -1.000000     0.73000     0.670000     0.630000   \n",
              "50%       0.000000     0.000000     0.98000     0.860000     0.760000   \n",
              "75%       2.000000     3.000000     1.24000     0.960000     0.940000   \n",
              "max       5.000000     5.000000     1.88000     1.670000     1.670000   \n",
              "\n",
              "             EN(A)        EN(B)    l(A-O)(Å)    l(B-O)(Å)         ΔENR  \\\n",
              "count  4165.000000  4165.000000  4165.000000  4165.000000  4165.000000   \n",
              "mean      1.547309     1.599059     2.323011     2.017219    -2.186093   \n",
              "std       0.447277     0.442961     0.635699     0.555599     0.636470   \n",
              "min       0.790000     0.790000     0.000000     0.000000    -5.411536   \n",
              "25%       1.200000     1.220000     2.294004     1.956808    -2.570036   \n",
              "50%       1.500000     1.600000     2.422517     2.075849    -2.084214   \n",
              "75%       1.910000     1.960000     2.582926     2.284156    -1.734643   \n",
              "max       2.540000     2.540000     3.300176     3.009747    -0.601714   \n",
              "\n",
              "                tG            τ            μ  \n",
              "count  4165.000000  4165.000000  4165.000000  \n",
              "mean      0.781040     1.332182     0.572857  \n",
              "std       0.135816    20.804362     0.167778  \n",
              "min       0.384648  -480.827696     0.192857  \n",
              "25%       0.680809     0.000000     0.450000  \n",
              "50%       0.776944     0.000000     0.542857  \n",
              "75%       0.873123     3.892903     0.671429  \n",
              "max       1.321062   305.871348     1.192857  "
            ],
            "text/html": [
              "\n",
              "  <div id=\"df-8d852b5a-6807-4876-b059-6dc8e1a3b58b\">\n",
              "    <div class=\"colab-df-container\">\n",
              "      <div>\n",
              "<style scoped>\n",
              "    .dataframe tbody tr th:only-of-type {\n",
              "        vertical-align: middle;\n",
              "    }\n",
              "\n",
              "    .dataframe tbody tr th {\n",
              "        vertical-align: top;\n",
              "    }\n",
              "\n",
              "    .dataframe thead th {\n",
              "        text-align: right;\n",
              "    }\n",
              "</style>\n",
              "<table border=\"1\" class=\"dataframe\">\n",
              "  <thead>\n",
              "    <tr style=\"text-align: right;\">\n",
              "      <th></th>\n",
              "      <th>v(A)</th>\n",
              "      <th>v(B)</th>\n",
              "      <th>r(AXII)(Å)</th>\n",
              "      <th>r(AVI)(Å)</th>\n",
              "      <th>r(BVI)(Å)</th>\n",
              "      <th>EN(A)</th>\n",
              "      <th>EN(B)</th>\n",
              "      <th>l(A-O)(Å)</th>\n",
              "      <th>l(B-O)(Å)</th>\n",
              "      <th>ΔENR</th>\n",
              "      <th>tG</th>\n",
              "      <th>τ</th>\n",
              "      <th>μ</th>\n",
              "    </tr>\n",
              "  </thead>\n",
              "  <tbody>\n",
              "    <tr>\n",
              "      <th>count</th>\n",
              "      <td>4165.000000</td>\n",
              "      <td>4165.000000</td>\n",
              "      <td>4165.00000</td>\n",
              "      <td>4165.000000</td>\n",
              "      <td>4165.000000</td>\n",
              "      <td>4165.000000</td>\n",
              "      <td>4165.000000</td>\n",
              "      <td>4165.000000</td>\n",
              "      <td>4165.000000</td>\n",
              "      <td>4165.000000</td>\n",
              "      <td>4165.000000</td>\n",
              "      <td>4165.000000</td>\n",
              "      <td>4165.000000</td>\n",
              "    </tr>\n",
              "    <tr>\n",
              "      <th>mean</th>\n",
              "      <td>0.882353</td>\n",
              "      <td>1.385114</td>\n",
              "      <td>1.00557</td>\n",
              "      <td>0.841789</td>\n",
              "      <td>0.801999</td>\n",
              "      <td>1.547309</td>\n",
              "      <td>1.599059</td>\n",
              "      <td>2.323011</td>\n",
              "      <td>2.017219</td>\n",
              "      <td>-2.186093</td>\n",
              "      <td>0.781040</td>\n",
              "      <td>1.332182</td>\n",
              "      <td>0.572857</td>\n",
              "    </tr>\n",
              "    <tr>\n",
              "      <th>std</th>\n",
              "      <td>1.672111</td>\n",
              "      <td>2.161707</td>\n",
              "      <td>0.33694</td>\n",
              "      <td>0.240549</td>\n",
              "      <td>0.234891</td>\n",
              "      <td>0.447277</td>\n",
              "      <td>0.442961</td>\n",
              "      <td>0.635699</td>\n",
              "      <td>0.555599</td>\n",
              "      <td>0.636470</td>\n",
              "      <td>0.135816</td>\n",
              "      <td>20.804362</td>\n",
              "      <td>0.167778</td>\n",
              "    </tr>\n",
              "    <tr>\n",
              "      <th>min</th>\n",
              "      <td>-1.000000</td>\n",
              "      <td>-1.000000</td>\n",
              "      <td>0.27000</td>\n",
              "      <td>0.270000</td>\n",
              "      <td>0.270000</td>\n",
              "      <td>0.790000</td>\n",
              "      <td>0.790000</td>\n",
              "      <td>0.000000</td>\n",
              "      <td>0.000000</td>\n",
              "      <td>-5.411536</td>\n",
              "      <td>0.384648</td>\n",
              "      <td>-480.827696</td>\n",
              "      <td>0.192857</td>\n",
              "    </tr>\n",
              "    <tr>\n",
              "      <th>25%</th>\n",
              "      <td>-1.000000</td>\n",
              "      <td>-1.000000</td>\n",
              "      <td>0.73000</td>\n",
              "      <td>0.670000</td>\n",
              "      <td>0.630000</td>\n",
              "      <td>1.200000</td>\n",
              "      <td>1.220000</td>\n",
              "      <td>2.294004</td>\n",
              "      <td>1.956808</td>\n",
              "      <td>-2.570036</td>\n",
              "      <td>0.680809</td>\n",
              "      <td>0.000000</td>\n",
              "      <td>0.450000</td>\n",
              "    </tr>\n",
              "    <tr>\n",
              "      <th>50%</th>\n",
              "      <td>0.000000</td>\n",
              "      <td>0.000000</td>\n",
              "      <td>0.98000</td>\n",
              "      <td>0.860000</td>\n",
              "      <td>0.760000</td>\n",
              "      <td>1.500000</td>\n",
              "      <td>1.600000</td>\n",
              "      <td>2.422517</td>\n",
              "      <td>2.075849</td>\n",
              "      <td>-2.084214</td>\n",
              "      <td>0.776944</td>\n",
              "      <td>0.000000</td>\n",
              "      <td>0.542857</td>\n",
              "    </tr>\n",
              "    <tr>\n",
              "      <th>75%</th>\n",
              "      <td>2.000000</td>\n",
              "      <td>3.000000</td>\n",
              "      <td>1.24000</td>\n",
              "      <td>0.960000</td>\n",
              "      <td>0.940000</td>\n",
              "      <td>1.910000</td>\n",
              "      <td>1.960000</td>\n",
              "      <td>2.582926</td>\n",
              "      <td>2.284156</td>\n",
              "      <td>-1.734643</td>\n",
              "      <td>0.873123</td>\n",
              "      <td>3.892903</td>\n",
              "      <td>0.671429</td>\n",
              "    </tr>\n",
              "    <tr>\n",
              "      <th>max</th>\n",
              "      <td>5.000000</td>\n",
              "      <td>5.000000</td>\n",
              "      <td>1.88000</td>\n",
              "      <td>1.670000</td>\n",
              "      <td>1.670000</td>\n",
              "      <td>2.540000</td>\n",
              "      <td>2.540000</td>\n",
              "      <td>3.300176</td>\n",
              "      <td>3.009747</td>\n",
              "      <td>-0.601714</td>\n",
              "      <td>1.321062</td>\n",
              "      <td>305.871348</td>\n",
              "      <td>1.192857</td>\n",
              "    </tr>\n",
              "  </tbody>\n",
              "</table>\n",
              "</div>\n",
              "      <button class=\"colab-df-convert\" onclick=\"convertToInteractive('df-8d852b5a-6807-4876-b059-6dc8e1a3b58b')\"\n",
              "              title=\"Convert this dataframe to an interactive table.\"\n",
              "              style=\"display:none;\">\n",
              "        \n",
              "  <svg xmlns=\"http://www.w3.org/2000/svg\" height=\"24px\"viewBox=\"0 0 24 24\"\n",
              "       width=\"24px\">\n",
              "    <path d=\"M0 0h24v24H0V0z\" fill=\"none\"/>\n",
              "    <path d=\"M18.56 5.44l.94 2.06.94-2.06 2.06-.94-2.06-.94-.94-2.06-.94 2.06-2.06.94zm-11 1L8.5 8.5l.94-2.06 2.06-.94-2.06-.94L8.5 2.5l-.94 2.06-2.06.94zm10 10l.94 2.06.94-2.06 2.06-.94-2.06-.94-.94-2.06-.94 2.06-2.06.94z\"/><path d=\"M17.41 7.96l-1.37-1.37c-.4-.4-.92-.59-1.43-.59-.52 0-1.04.2-1.43.59L10.3 9.45l-7.72 7.72c-.78.78-.78 2.05 0 2.83L4 21.41c.39.39.9.59 1.41.59.51 0 1.02-.2 1.41-.59l7.78-7.78 2.81-2.81c.8-.78.8-2.07 0-2.86zM5.41 20L4 18.59l7.72-7.72 1.47 1.35L5.41 20z\"/>\n",
              "  </svg>\n",
              "      </button>\n",
              "      \n",
              "  <style>\n",
              "    .colab-df-container {\n",
              "      display:flex;\n",
              "      flex-wrap:wrap;\n",
              "      gap: 12px;\n",
              "    }\n",
              "\n",
              "    .colab-df-convert {\n",
              "      background-color: #E8F0FE;\n",
              "      border: none;\n",
              "      border-radius: 50%;\n",
              "      cursor: pointer;\n",
              "      display: none;\n",
              "      fill: #1967D2;\n",
              "      height: 32px;\n",
              "      padding: 0 0 0 0;\n",
              "      width: 32px;\n",
              "    }\n",
              "\n",
              "    .colab-df-convert:hover {\n",
              "      background-color: #E2EBFA;\n",
              "      box-shadow: 0px 1px 2px rgba(60, 64, 67, 0.3), 0px 1px 3px 1px rgba(60, 64, 67, 0.15);\n",
              "      fill: #174EA6;\n",
              "    }\n",
              "\n",
              "    [theme=dark] .colab-df-convert {\n",
              "      background-color: #3B4455;\n",
              "      fill: #D2E3FC;\n",
              "    }\n",
              "\n",
              "    [theme=dark] .colab-df-convert:hover {\n",
              "      background-color: #434B5C;\n",
              "      box-shadow: 0px 1px 3px 1px rgba(0, 0, 0, 0.15);\n",
              "      filter: drop-shadow(0px 1px 2px rgba(0, 0, 0, 0.3));\n",
              "      fill: #FFFFFF;\n",
              "    }\n",
              "  </style>\n",
              "\n",
              "      <script>\n",
              "        const buttonEl =\n",
              "          document.querySelector('#df-8d852b5a-6807-4876-b059-6dc8e1a3b58b button.colab-df-convert');\n",
              "        buttonEl.style.display =\n",
              "          google.colab.kernel.accessAllowed ? 'block' : 'none';\n",
              "\n",
              "        async function convertToInteractive(key) {\n",
              "          const element = document.querySelector('#df-8d852b5a-6807-4876-b059-6dc8e1a3b58b');\n",
              "          const dataTable =\n",
              "            await google.colab.kernel.invokeFunction('convertToInteractive',\n",
              "                                                     [key], {});\n",
              "          if (!dataTable) return;\n",
              "\n",
              "          const docLinkHtml = 'Like what you see? Visit the ' +\n",
              "            '<a target=\"_blank\" href=https://colab.research.google.com/notebooks/data_table.ipynb>data table notebook</a>'\n",
              "            + ' to learn more about interactive tables.';\n",
              "          element.innerHTML = '';\n",
              "          dataTable['output_type'] = 'display_data';\n",
              "          await google.colab.output.renderOutput(dataTable, element);\n",
              "          const docLink = document.createElement('div');\n",
              "          docLink.innerHTML = docLinkHtml;\n",
              "          element.appendChild(docLink);\n",
              "        }\n",
              "      </script>\n",
              "    </div>\n",
              "  </div>\n",
              "  "
            ]
          },
          "metadata": {},
          "execution_count": 7
        }
      ],
      "source": [
        "df.describe()"
      ]
    },
    {
      "cell_type": "code",
      "execution_count": 8,
      "metadata": {
        "id": "XOuIjfVNJi8z",
        "colab": {
          "base_uri": "https://localhost:8080/"
        },
        "outputId": "46969043-af11-4944-f806-d7ea22e5e37e"
      },
      "outputs": [
        {
          "output_type": "stream",
          "name": "stdout",
          "text": [
            "<class 'pandas.core.frame.DataFrame'>\n",
            "RangeIndex: 4165 entries, 0 to 4164\n",
            "Data columns (total 14 columns):\n",
            " #   Column             Non-Null Count  Dtype  \n",
            "---  ------             --------------  -----  \n",
            " 0   v(A)               4165 non-null   int64  \n",
            " 1   v(B)               4165 non-null   int64  \n",
            " 2   r(AXII)(Å)         4165 non-null   float64\n",
            " 3   r(AVI)(Å)          4165 non-null   float64\n",
            " 4   r(BVI)(Å)          4165 non-null   float64\n",
            " 5   EN(A)              4165 non-null   float64\n",
            " 6   EN(B)              4165 non-null   float64\n",
            " 7   l(A-O)(Å)          4165 non-null   float64\n",
            " 8   l(B-O)(Å)          4165 non-null   float64\n",
            " 9   ΔENR               4165 non-null   float64\n",
            " 10  tG                 4165 non-null   float64\n",
            " 11  τ                  4165 non-null   float64\n",
            " 12  μ                  4165 non-null   float64\n",
            " 13  Lowest distortion  4165 non-null   object \n",
            "dtypes: float64(11), int64(2), object(1)\n",
            "memory usage: 455.7+ KB\n"
          ]
        }
      ],
      "source": [
        "df.info()"
      ]
    },
    {
      "cell_type": "markdown",
      "metadata": {
        "id": "kvR6AlWqzFwD"
      },
      "source": [
        "# Separating Input Features and Output Features\n"
      ]
    },
    {
      "cell_type": "code",
      "execution_count": 9,
      "metadata": {
        "id": "w7mNrWppzfW4"
      },
      "outputs": [],
      "source": [
        "# Input/independent variables\n",
        "X = df.drop('Lowest distortion', axis = 1)   # here we are dropping the Target feature as this is the target and 'X' is input features, the changes are not \n",
        "                                              # made inplace as we have not used 'inplace = True'\n",
        "\n",
        "y = df['Lowest distortion']             # Output/Dependent variable"
      ]
    },
    {
      "cell_type": "code",
      "source": [
        "X.info()"
      ],
      "metadata": {
        "colab": {
          "base_uri": "https://localhost:8080/"
        },
        "id": "A4o5TFI-ntaS",
        "outputId": "f8de80a1-2c2c-4d64-ec39-2ad7ee513918"
      },
      "execution_count": 10,
      "outputs": [
        {
          "output_type": "stream",
          "name": "stdout",
          "text": [
            "<class 'pandas.core.frame.DataFrame'>\n",
            "RangeIndex: 4165 entries, 0 to 4164\n",
            "Data columns (total 13 columns):\n",
            " #   Column      Non-Null Count  Dtype  \n",
            "---  ------      --------------  -----  \n",
            " 0   v(A)        4165 non-null   int64  \n",
            " 1   v(B)        4165 non-null   int64  \n",
            " 2   r(AXII)(Å)  4165 non-null   float64\n",
            " 3   r(AVI)(Å)   4165 non-null   float64\n",
            " 4   r(BVI)(Å)   4165 non-null   float64\n",
            " 5   EN(A)       4165 non-null   float64\n",
            " 6   EN(B)       4165 non-null   float64\n",
            " 7   l(A-O)(Å)   4165 non-null   float64\n",
            " 8   l(B-O)(Å)   4165 non-null   float64\n",
            " 9   ΔENR        4165 non-null   float64\n",
            " 10  tG          4165 non-null   float64\n",
            " 11  τ           4165 non-null   float64\n",
            " 12  μ           4165 non-null   float64\n",
            "dtypes: float64(11), int64(2)\n",
            "memory usage: 423.1 KB\n"
          ]
        }
      ]
    },
    {
      "cell_type": "code",
      "source": [
        "pca = PCA()\n",
        "X_pca = pca.fit_transform(X)"
      ],
      "metadata": {
        "id": "9E00KyFdBpQO"
      },
      "execution_count": 11,
      "outputs": []
    },
    {
      "cell_type": "code",
      "source": [
        "plt.figure(figsize=(10,10))\n",
        "plt.plot(np.cumsum(pca.explained_variance_ratio_), 'ro-')\n",
        "plt.grid()"
      ],
      "metadata": {
        "colab": {
          "base_uri": "https://localhost:8080/",
          "height": 592
        },
        "id": "vXPZOxadBuZ0",
        "outputId": "52933241-cebd-47b3-b3d5-2aaf47875ff9"
      },
      "execution_count": 12,
      "outputs": [
        {
          "output_type": "display_data",
          "data": {
            "text/plain": [
              "<Figure size 720x720 with 1 Axes>"
            ],
            "image/png": "[encoded data removed]"
          },
          "metadata": {
            "needs_background": "light"
          }
        }
      ]
    },
    {
      "cell_type": "code",
      "source": [
        "pca_new = PCA(n_components=8)\n",
        "X_new = pca_new.fit_transform(X)"
      ],
      "metadata": {
        "id": "Pn9DR7W6Bx8Z"
      },
      "execution_count": 13,
      "outputs": []
    },
    {
      "cell_type": "code",
      "execution_count": 14,
      "metadata": {
        "id": "IgYLbVk_Qcqa"
      },
      "outputs": [],
      "source": [
        "X_train, X_test, y_train, y_test = train_test_split(X, y, test_size=0.3)"
      ]
    },
    {
      "cell_type": "code",
      "execution_count": 15,
      "metadata": {
        "colab": {
          "base_uri": "https://localhost:8080/"
        },
        "id": "OgwFJNj4GS6G",
        "outputId": "15ca0394-db98-41cb-ebe7-3ef9cd151823"
      },
      "outputs": [
        {
          "output_type": "execute_result",
          "data": {
            "text/plain": [
              "(2915, 13)"
            ]
          },
          "metadata": {},
          "execution_count": 15
        }
      ],
      "source": [
        "X_train.shape"
      ]
    },
    {
      "cell_type": "code",
      "execution_count": 16,
      "metadata": {
        "id": "C_9z9_kZs0Hz"
      },
      "outputs": [],
      "source": [
        "scaler = StandardScaler().fit(X_train)\n",
        "X_train = scaler.transform(X_train)\n",
        "X_test = scaler.transform(X_test)"
      ]
    },
    {
      "cell_type": "code",
      "execution_count": 17,
      "metadata": {
        "colab": {
          "base_uri": "https://localhost:8080/"
        },
        "id": "MR0IlqSCGS6G",
        "outputId": "b7e34141-1f5a-423f-b8ff-cb0d0090262e"
      },
      "outputs": [
        {
          "output_type": "execute_result",
          "data": {
            "text/plain": [
              "array([[ 1.26884497,  0.75424243,  0.30413093, ...,  1.50969439,\n",
              "         0.0812582 , -1.70626468],\n",
              "       [ 0.07533639,  1.67958614,  0.27439617, ...,  0.6915412 ,\n",
              "         0.15919313, -0.77476144],\n",
              "       [ 1.26884497,  0.75424243,  0.21492667, ...,  0.22473569,\n",
              "         0.18775688, -0.18198665],\n",
              "       ...,\n",
              "       [ 0.67209068,  1.21691428,  0.92856073, ...,  1.3299934 ,\n",
              "         0.13903483, -0.85944355],\n",
              "       [ 0.67209068,  1.21691428,  0.24466142, ...,  0.39140531,\n",
              "         0.19512937, -0.39369194],\n",
              "       [-0.5214179 , -0.63377315, -0.23109462, ...,  0.25247618,\n",
              "        -0.04081958, -0.77476144]])"
            ]
          },
          "metadata": {},
          "execution_count": 17
        }
      ],
      "source": [
        "X_train"
      ]
    },
    {
      "cell_type": "markdown",
      "metadata": {
        "id": "Fr16AzpqtECh"
      },
      "source": [
        "# Building Model\n"
      ]
    },
    {
      "cell_type": "markdown",
      "metadata": {
        "id": "IVVBMkkUunvk"
      },
      "source": [
        "### Train the model"
      ]
    },
    {
      "cell_type": "code",
      "execution_count": 18,
      "metadata": {
        "id": "JJEM4y1xuVPW"
      },
      "outputs": [],
      "source": [
        "from sklearn.linear_model import LogisticRegression"
      ]
    },
    {
      "cell_type": "code",
      "execution_count": 19,
      "metadata": {
        "id": "WsdPFU6iuZj9"
      },
      "outputs": [],
      "source": [
        "model = LogisticRegression()"
      ]
    },
    {
      "cell_type": "code",
      "execution_count": 20,
      "metadata": {
        "colab": {
          "base_uri": "https://localhost:8080/"
        },
        "id": "DFa09dDgU5_E",
        "outputId": "91886382-6609-4bb7-a9c0-0274dabd9a4f"
      },
      "outputs": [
        {
          "output_type": "execute_result",
          "data": {
            "text/plain": [
              "LogisticRegression()"
            ]
          },
          "metadata": {},
          "execution_count": 20
        }
      ],
      "source": [
        "model.fit(X_train,y_train)"
      ]
    },
    {
      "cell_type": "code",
      "source": [
        "print(X_train.shape,y_train.shape)"
      ],
      "metadata": {
        "colab": {
          "base_uri": "https://localhost:8080/"
        },
        "id": "SMwq5AEL1dCw",
        "outputId": "011f5ef8-5f89-484c-a7f4-68ad023f48e2"
      },
      "execution_count": 21,
      "outputs": [
        {
          "output_type": "stream",
          "name": "stdout",
          "text": [
            "(2915, 13) (2915,)\n"
          ]
        }
      ]
    },
    {
      "cell_type": "markdown",
      "metadata": {
        "id": "rd2dWbYe2oLa"
      },
      "source": [
        "# Validate The Model\n"
      ]
    },
    {
      "cell_type": "code",
      "execution_count": 22,
      "metadata": {
        "id": "KgRfIAJP9RNZ"
      },
      "outputs": [],
      "source": [
        "pred = model.predict(X_test)"
      ]
    },
    {
      "cell_type": "markdown",
      "metadata": {
        "id": "GInO1P5u9rbx"
      },
      "source": [
        "## Model Evaluation\n"
      ]
    },
    {
      "cell_type": "code",
      "execution_count": 23,
      "metadata": {
        "id": "29kbj29z9pw0"
      },
      "outputs": [],
      "source": [
        "from sklearn.metrics import accuracy_score"
      ]
    },
    {
      "cell_type": "markdown",
      "metadata": {
        "id": "IcKnLXHIuzd4"
      },
      "source": [
        "# Checking the accuracy of the Validation dataset"
      ]
    },
    {
      "cell_type": "code",
      "execution_count": 24,
      "metadata": {
        "id": "iA2sc8E4vDlz",
        "colab": {
          "base_uri": "https://localhost:8080/"
        },
        "outputId": "e29bdb6c-e56e-4a7e-8dab-a92d523e1ee9"
      },
      "outputs": [
        {
          "output_type": "stream",
          "name": "stdout",
          "text": [
            "Accuracy score 0.6256\n"
          ]
        }
      ],
      "source": [
        "print('Accuracy score',accuracy_score(pred,y_test))"
      ]
    },
    {
      "cell_type": "markdown",
      "metadata": {
        "id": "Yyxr6KaSwfmI"
      },
      "source": [
        "## Load Test Set\n"
      ]
    },
    {
      "cell_type": "code",
      "execution_count": 25,
      "metadata": {
        "id": "LjRc151Cwa1p"
      },
      "outputs": [],
      "source": [
        "test_data = pd.read_csv(r'/content/drive/MyDrive/Crystal Structure Classification/test_dataset.csv')"
      ]
    },
    {
      "cell_type": "code",
      "execution_count": 26,
      "metadata": {
        "id": "5zF7me-ewpWu",
        "colab": {
          "base_uri": "https://localhost:8080/",
          "height": 268
        },
        "outputId": "0de38deb-4680-4724-8b7a-9fbbd9c27acf"
      },
      "outputs": [
        {
          "output_type": "execute_result",
          "data": {
            "text/plain": [
              "   v(A)  v(B)  r(AXII)(Å)  r(AVI)(Å)  r(BVI)(Å)  EN(A)  EN(B)  l(A-O)(Å)  \\\n",
              "0     2     4        1.19       0.99       0.62   1.22   2.20   2.550861   \n",
              "1     2     4        0.90       0.74       0.61   1.65   1.54   2.375479   \n",
              "2     2     4        0.79       0.68       0.71   1.60   1.30   2.294004   \n",
              "3     3     3        1.08       0.90       0.86   1.22   1.27   2.566449   \n",
              "4    -1    -1        0.89       0.72       0.86   1.31   1.27   2.401381   \n",
              "\n",
              "   l(B-O)(Å)      ΔENR        tG          τ         μ  \n",
              "0   2.042505 -1.780286  0.906637   4.145754  0.442857  \n",
              "1   1.927849 -1.750107  0.809127   5.881989  0.435714  \n",
              "2   2.027412 -1.942643  0.733917  18.814711  0.507143  \n",
              "3   2.209115 -2.575429  0.775940   9.167449  0.614286  \n",
              "4   2.209115 -2.400536  0.716493   0.000000  0.614286  "
            ],
            "text/html": [
              "\n",
              "  <div id=\"df-7df8470f-cc90-468e-a0ca-4aa5b1101c71\">\n",
              "    <div class=\"colab-df-container\">\n",
              "      <div>\n",
              "<style scoped>\n",
              "    .dataframe tbody tr th:only-of-type {\n",
              "        vertical-align: middle;\n",
              "    }\n",
              "\n",
              "    .dataframe tbody tr th {\n",
              "        vertical-align: top;\n",
              "    }\n",
              "\n",
              "    .dataframe thead th {\n",
              "        text-align: right;\n",
              "    }\n",
              "</style>\n",
              "<table border=\"1\" class=\"dataframe\">\n",
              "  <thead>\n",
              "    <tr style=\"text-align: right;\">\n",
              "      <th></th>\n",
              "      <th>v(A)</th>\n",
              "      <th>v(B)</th>\n",
              "      <th>r(AXII)(Å)</th>\n",
              "      <th>r(AVI)(Å)</th>\n",
              "      <th>r(BVI)(Å)</th>\n",
              "      <th>EN(A)</th>\n",
              "      <th>EN(B)</th>\n",
              "      <th>l(A-O)(Å)</th>\n",
              "      <th>l(B-O)(Å)</th>\n",
              "      <th>ΔENR</th>\n",
              "      <th>tG</th>\n",
              "      <th>τ</th>\n",
              "      <th>μ</th>\n",
              "    </tr>\n",
              "  </thead>\n",
              "  <tbody>\n",
              "    <tr>\n",
              "      <th>0</th>\n",
              "      <td>2</td>\n",
              "      <td>4</td>\n",
              "      <td>1.19</td>\n",
              "      <td>0.99</td>\n",
              "      <td>0.62</td>\n",
              "      <td>1.22</td>\n",
              "      <td>2.20</td>\n",
              "      <td>2.550861</td>\n",
              "      <td>2.042505</td>\n",
              "      <td>-1.780286</td>\n",
              "      <td>0.906637</td>\n",
              "      <td>4.145754</td>\n",
              "      <td>0.442857</td>\n",
              "    </tr>\n",
              "    <tr>\n",
              "      <th>1</th>\n",
              "      <td>2</td>\n",
              "      <td>4</td>\n",
              "      <td>0.90</td>\n",
              "      <td>0.74</td>\n",
              "      <td>0.61</td>\n",
              "      <td>1.65</td>\n",
              "      <td>1.54</td>\n",
              "      <td>2.375479</td>\n",
              "      <td>1.927849</td>\n",
              "      <td>-1.750107</td>\n",
              "      <td>0.809127</td>\n",
              "      <td>5.881989</td>\n",
              "      <td>0.435714</td>\n",
              "    </tr>\n",
              "    <tr>\n",
              "      <th>2</th>\n",
              "      <td>2</td>\n",
              "      <td>4</td>\n",
              "      <td>0.79</td>\n",
              "      <td>0.68</td>\n",
              "      <td>0.71</td>\n",
              "      <td>1.60</td>\n",
              "      <td>1.30</td>\n",
              "      <td>2.294004</td>\n",
              "      <td>2.027412</td>\n",
              "      <td>-1.942643</td>\n",
              "      <td>0.733917</td>\n",
              "      <td>18.814711</td>\n",
              "      <td>0.507143</td>\n",
              "    </tr>\n",
              "    <tr>\n",
              "      <th>3</th>\n",
              "      <td>3</td>\n",
              "      <td>3</td>\n",
              "      <td>1.08</td>\n",
              "      <td>0.90</td>\n",
              "      <td>0.86</td>\n",
              "      <td>1.22</td>\n",
              "      <td>1.27</td>\n",
              "      <td>2.566449</td>\n",
              "      <td>2.209115</td>\n",
              "      <td>-2.575429</td>\n",
              "      <td>0.775940</td>\n",
              "      <td>9.167449</td>\n",
              "      <td>0.614286</td>\n",
              "    </tr>\n",
              "    <tr>\n",
              "      <th>4</th>\n",
              "      <td>-1</td>\n",
              "      <td>-1</td>\n",
              "      <td>0.89</td>\n",
              "      <td>0.72</td>\n",
              "      <td>0.86</td>\n",
              "      <td>1.31</td>\n",
              "      <td>1.27</td>\n",
              "      <td>2.401381</td>\n",
              "      <td>2.209115</td>\n",
              "      <td>-2.400536</td>\n",
              "      <td>0.716493</td>\n",
              "      <td>0.000000</td>\n",
              "      <td>0.614286</td>\n",
              "    </tr>\n",
              "  </tbody>\n",
              "</table>\n",
              "</div>\n",
              "      <button class=\"colab-df-convert\" onclick=\"convertToInteractive('df-7df8470f-cc90-468e-a0ca-4aa5b1101c71')\"\n",
              "              title=\"Convert this dataframe to an interactive table.\"\n",
              "              style=\"display:none;\">\n",
              "        \n",
              "  <svg xmlns=\"http://www.w3.org/2000/svg\" height=\"24px\"viewBox=\"0 0 24 24\"\n",
              "       width=\"24px\">\n",
              "    <path d=\"M0 0h24v24H0V0z\" fill=\"none\"/>\n",
              "    <path d=\"M18.56 5.44l.94 2.06.94-2.06 2.06-.94-2.06-.94-.94-2.06-.94 2.06-2.06.94zm-11 1L8.5 8.5l.94-2.06 2.06-.94-2.06-.94L8.5 2.5l-.94 2.06-2.06.94zm10 10l.94 2.06.94-2.06 2.06-.94-2.06-.94-.94-2.06-.94 2.06-2.06.94z\"/><path d=\"M17.41 7.96l-1.37-1.37c-.4-.4-.92-.59-1.43-.59-.52 0-1.04.2-1.43.59L10.3 9.45l-7.72 7.72c-.78.78-.78 2.05 0 2.83L4 21.41c.39.39.9.59 1.41.59.51 0 1.02-.2 1.41-.59l7.78-7.78 2.81-2.81c.8-.78.8-2.07 0-2.86zM5.41 20L4 18.59l7.72-7.72 1.47 1.35L5.41 20z\"/>\n",
              "  </svg>\n",
              "      </button>\n",
              "      \n",
              "  <style>\n",
              "    .colab-df-container {\n",
              "      display:flex;\n",
              "      flex-wrap:wrap;\n",
              "      gap: 12px;\n",
              "    }\n",
              "\n",
              "    .colab-df-convert {\n",
              "      background-color: #E8F0FE;\n",
              "      border: none;\n",
              "      border-radius: 50%;\n",
              "      cursor: pointer;\n",
              "      display: none;\n",
              "      fill: #1967D2;\n",
              "      height: 32px;\n",
              "      padding: 0 0 0 0;\n",
              "      width: 32px;\n",
              "    }\n",
              "\n",
              "    .colab-df-convert:hover {\n",
              "      background-color: #E2EBFA;\n",
              "      box-shadow: 0px 1px 2px rgba(60, 64, 67, 0.3), 0px 1px 3px 1px rgba(60, 64, 67, 0.15);\n",
              "      fill: #174EA6;\n",
              "    }\n",
              "\n",
              "    [theme=dark] .colab-df-convert {\n",
              "      background-color: #3B4455;\n",
              "      fill: #D2E3FC;\n",
              "    }\n",
              "\n",
              "    [theme=dark] .colab-df-convert:hover {\n",
              "      background-color: #434B5C;\n",
              "      box-shadow: 0px 1px 3px 1px rgba(0, 0, 0, 0.15);\n",
              "      filter: drop-shadow(0px 1px 2px rgba(0, 0, 0, 0.3));\n",
              "      fill: #FFFFFF;\n",
              "    }\n",
              "  </style>\n",
              "\n",
              "      <script>\n",
              "        const buttonEl =\n",
              "          document.querySelector('#df-7df8470f-cc90-468e-a0ca-4aa5b1101c71 button.colab-df-convert');\n",
              "        buttonEl.style.display =\n",
              "          google.colab.kernel.accessAllowed ? 'block' : 'none';\n",
              "\n",
              "        async function convertToInteractive(key) {\n",
              "          const element = document.querySelector('#df-7df8470f-cc90-468e-a0ca-4aa5b1101c71');\n",
              "          const dataTable =\n",
              "            await google.colab.kernel.invokeFunction('convertToInteractive',\n",
              "                                                     [key], {});\n",
              "          if (!dataTable) return;\n",
              "\n",
              "          const docLinkHtml = 'Like what you see? Visit the ' +\n",
              "            '<a target=\"_blank\" href=https://colab.research.google.com/notebooks/data_table.ipynb>data table notebook</a>'\n",
              "            + ' to learn more about interactive tables.';\n",
              "          element.innerHTML = '';\n",
              "          dataTable['output_type'] = 'display_data';\n",
              "          await google.colab.output.renderOutput(dataTable, element);\n",
              "          const docLink = document.createElement('div');\n",
              "          docLink.innerHTML = docLinkHtml;\n",
              "          element.appendChild(docLink);\n",
              "        }\n",
              "      </script>\n",
              "    </div>\n",
              "  </div>\n",
              "  "
            ]
          },
          "metadata": {},
          "execution_count": 26
        }
      ],
      "source": [
        "test_data.head()"
      ]
    },
    {
      "cell_type": "markdown",
      "metadata": {
        "id": "Myh_i9lDxSh3"
      },
      "source": [
        "## Make Prediction on Test Dataset\n",
        "Time to make submission!!!"
      ]
    },
    {
      "cell_type": "code",
      "execution_count": 27,
      "metadata": {
        "id": "RvmNRfsHxRsR"
      },
      "outputs": [],
      "source": [
        "target = model.predict(test_data)"
      ]
    },
    {
      "cell_type": "markdown",
      "metadata": {
        "id": "siih9L-Fxfms"
      },
      "source": [
        "## How to save prediciton results locally via jupyter notebook?\n"
      ]
    },
    {
      "cell_type": "code",
      "execution_count": 28,
      "metadata": {
        "id": "qvfit3i7xabj"
      },
      "outputs": [],
      "source": [
        "#target = pd.read_csv(r'test_ans.csv')\n",
        "res = pd.DataFrame(target) #target is nothing but the final predictions of your model on input features of your new unseen test data\n",
        "res.columns = [\"Lowest distortion\"]\n",
        "res.to_csv(\"submission.csv\", index = False)      # the csv file will be saved locally on the same location where this notebook is located."
      ]
    }
  ],
  "metadata": {
    "colab": {
      "name": "Crystal Structure Classification.ipynb",
      "provenance": [],
      "collapsed_sections": []
    },
    "kernelspec": {
      "display_name": "Python 3",
      "language": "python",
      "name": "python3"
    },
    "language_info": {
      "codemirror_mode": {
        "name": "ipython",
        "version": 3
      },
      "file_extension": ".py",
      "mimetype": "text/x-python",
      "name": "python",
      "nbconvert_exporter": "python",
      "pygments_lexer": "ipython3",
      "version": "3.8.5"
    }
  },
  "nbformat": 4,
  "nbformat_minor": 0
}